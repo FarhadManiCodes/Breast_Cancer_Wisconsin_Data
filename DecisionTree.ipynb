{
 "cells": [
  {
   "cell_type": "code",
   "execution_count": 1,
   "id": "d747def1-62d7-47ab-aa6c-1ab55a503954",
   "metadata": {},
   "outputs": [],
   "source": [
    "import os\n",
    "import pandas as pd\n",
    "import numpy as np \n",
    "from pandas.plotting import scatter_matrix\n",
    "# The following is to make some plots along the way \n",
    "import seaborn as sns \n",
    "import matplotlib.pyplot as plt\n",
    "\n",
    "from DecisionTree import DecisionTreeCLF,Node\n",
    "\n",
    "DATA_PATH = \"datasets\"\n",
    "\n",
    "def load_train_data(data_path:str = DATA_PATH) -> pd.DataFrame:\n",
    "    \"\"\"read the data from csv and return panda data from,\"\"\"\n",
    "    csv_path = os.path.join(data_path,\"train.csv\")\n",
    "    return pd.read_csv(csv_path)\n",
    "\n",
    "def load_test_data(data_path:str = DATA_PATH) -> pd.DataFrame:\n",
    "    \"\"\"read the data from csv and return panda data from,\"\"\"\n",
    "    csv_path = os.path.join(data_path,\"test.csv\")\n",
    "    return pd.read_csv(csv_path)"
   ]
  },
  {
   "cell_type": "code",
   "execution_count": 2,
   "id": "89520130-7f79-4ff6-9ffa-eac7a669df89",
   "metadata": {},
   "outputs": [],
   "source": [
    "## Import the training and the test set"
   ]
  },
  {
   "cell_type": "code",
   "execution_count": 3,
   "id": "bb3675c2-6790-4f8e-ab63-43b49c2c6fab",
   "metadata": {},
   "outputs": [
    {
     "data": {
      "text/html": [
       "<div>\n",
       "<style scoped>\n",
       "    .dataframe tbody tr th:only-of-type {\n",
       "        vertical-align: middle;\n",
       "    }\n",
       "\n",
       "    .dataframe tbody tr th {\n",
       "        vertical-align: top;\n",
       "    }\n",
       "\n",
       "    .dataframe thead th {\n",
       "        text-align: right;\n",
       "    }\n",
       "</style>\n",
       "<table border=\"1\" class=\"dataframe\">\n",
       "  <thead>\n",
       "    <tr style=\"text-align: right;\">\n",
       "      <th></th>\n",
       "      <th>diagnosis</th>\n",
       "      <th>radius_mean</th>\n",
       "      <th>texture_mean</th>\n",
       "      <th>perimeter_mean</th>\n",
       "      <th>area_mean</th>\n",
       "      <th>smoothness_mean</th>\n",
       "      <th>compactness_mean</th>\n",
       "      <th>concavity_mean</th>\n",
       "      <th>concave points_mean</th>\n",
       "      <th>symmetry_mean</th>\n",
       "      <th>...</th>\n",
       "      <th>radius_worst</th>\n",
       "      <th>texture_worst</th>\n",
       "      <th>perimeter_worst</th>\n",
       "      <th>area_worst</th>\n",
       "      <th>smoothness_worst</th>\n",
       "      <th>compactness_worst</th>\n",
       "      <th>concavity_worst</th>\n",
       "      <th>concave points_worst</th>\n",
       "      <th>symmetry_worst</th>\n",
       "      <th>fractal_dimension_worst</th>\n",
       "    </tr>\n",
       "  </thead>\n",
       "  <tbody>\n",
       "    <tr>\n",
       "      <th>0</th>\n",
       "      <td>0</td>\n",
       "      <td>9.029</td>\n",
       "      <td>17.33</td>\n",
       "      <td>58.79</td>\n",
       "      <td>250.5</td>\n",
       "      <td>0.10660</td>\n",
       "      <td>0.14130</td>\n",
       "      <td>0.31300</td>\n",
       "      <td>0.04375</td>\n",
       "      <td>0.2111</td>\n",
       "      <td>...</td>\n",
       "      <td>10.31</td>\n",
       "      <td>22.65</td>\n",
       "      <td>65.50</td>\n",
       "      <td>324.7</td>\n",
       "      <td>0.14820</td>\n",
       "      <td>0.43650</td>\n",
       "      <td>1.25200</td>\n",
       "      <td>0.17500</td>\n",
       "      <td>0.4228</td>\n",
       "      <td>0.11750</td>\n",
       "    </tr>\n",
       "    <tr>\n",
       "      <th>1</th>\n",
       "      <td>1</td>\n",
       "      <td>21.090</td>\n",
       "      <td>26.57</td>\n",
       "      <td>142.70</td>\n",
       "      <td>1311.0</td>\n",
       "      <td>0.11410</td>\n",
       "      <td>0.28320</td>\n",
       "      <td>0.24870</td>\n",
       "      <td>0.14960</td>\n",
       "      <td>0.2395</td>\n",
       "      <td>...</td>\n",
       "      <td>26.68</td>\n",
       "      <td>33.48</td>\n",
       "      <td>176.50</td>\n",
       "      <td>2089.0</td>\n",
       "      <td>0.14910</td>\n",
       "      <td>0.75840</td>\n",
       "      <td>0.67800</td>\n",
       "      <td>0.29030</td>\n",
       "      <td>0.4098</td>\n",
       "      <td>0.12840</td>\n",
       "    </tr>\n",
       "    <tr>\n",
       "      <th>2</th>\n",
       "      <td>0</td>\n",
       "      <td>9.173</td>\n",
       "      <td>13.86</td>\n",
       "      <td>59.20</td>\n",
       "      <td>260.9</td>\n",
       "      <td>0.07721</td>\n",
       "      <td>0.08751</td>\n",
       "      <td>0.05988</td>\n",
       "      <td>0.02180</td>\n",
       "      <td>0.2341</td>\n",
       "      <td>...</td>\n",
       "      <td>10.01</td>\n",
       "      <td>19.23</td>\n",
       "      <td>65.59</td>\n",
       "      <td>310.1</td>\n",
       "      <td>0.09836</td>\n",
       "      <td>0.16780</td>\n",
       "      <td>0.13970</td>\n",
       "      <td>0.05087</td>\n",
       "      <td>0.3282</td>\n",
       "      <td>0.08490</td>\n",
       "    </tr>\n",
       "    <tr>\n",
       "      <th>3</th>\n",
       "      <td>0</td>\n",
       "      <td>10.650</td>\n",
       "      <td>25.22</td>\n",
       "      <td>68.01</td>\n",
       "      <td>347.0</td>\n",
       "      <td>0.09657</td>\n",
       "      <td>0.07234</td>\n",
       "      <td>0.02379</td>\n",
       "      <td>0.01615</td>\n",
       "      <td>0.1897</td>\n",
       "      <td>...</td>\n",
       "      <td>12.25</td>\n",
       "      <td>35.19</td>\n",
       "      <td>77.98</td>\n",
       "      <td>455.7</td>\n",
       "      <td>0.14990</td>\n",
       "      <td>0.13980</td>\n",
       "      <td>0.11250</td>\n",
       "      <td>0.06136</td>\n",
       "      <td>0.3409</td>\n",
       "      <td>0.08147</td>\n",
       "    </tr>\n",
       "    <tr>\n",
       "      <th>4</th>\n",
       "      <td>0</td>\n",
       "      <td>10.170</td>\n",
       "      <td>14.88</td>\n",
       "      <td>64.55</td>\n",
       "      <td>311.9</td>\n",
       "      <td>0.11340</td>\n",
       "      <td>0.08061</td>\n",
       "      <td>0.01084</td>\n",
       "      <td>0.01290</td>\n",
       "      <td>0.2743</td>\n",
       "      <td>...</td>\n",
       "      <td>11.02</td>\n",
       "      <td>17.45</td>\n",
       "      <td>69.86</td>\n",
       "      <td>368.6</td>\n",
       "      <td>0.12750</td>\n",
       "      <td>0.09866</td>\n",
       "      <td>0.02168</td>\n",
       "      <td>0.02579</td>\n",
       "      <td>0.3557</td>\n",
       "      <td>0.08020</td>\n",
       "    </tr>\n",
       "  </tbody>\n",
       "</table>\n",
       "<p>5 rows × 31 columns</p>\n",
       "</div>"
      ],
      "text/plain": [
       "   diagnosis  radius_mean  texture_mean  perimeter_mean  area_mean  \\\n",
       "0          0        9.029         17.33           58.79      250.5   \n",
       "1          1       21.090         26.57          142.70     1311.0   \n",
       "2          0        9.173         13.86           59.20      260.9   \n",
       "3          0       10.650         25.22           68.01      347.0   \n",
       "4          0       10.170         14.88           64.55      311.9   \n",
       "\n",
       "   smoothness_mean  compactness_mean  concavity_mean  concave points_mean  \\\n",
       "0          0.10660           0.14130         0.31300              0.04375   \n",
       "1          0.11410           0.28320         0.24870              0.14960   \n",
       "2          0.07721           0.08751         0.05988              0.02180   \n",
       "3          0.09657           0.07234         0.02379              0.01615   \n",
       "4          0.11340           0.08061         0.01084              0.01290   \n",
       "\n",
       "   symmetry_mean  ...  radius_worst  texture_worst  perimeter_worst  \\\n",
       "0         0.2111  ...         10.31          22.65            65.50   \n",
       "1         0.2395  ...         26.68          33.48           176.50   \n",
       "2         0.2341  ...         10.01          19.23            65.59   \n",
       "3         0.1897  ...         12.25          35.19            77.98   \n",
       "4         0.2743  ...         11.02          17.45            69.86   \n",
       "\n",
       "   area_worst  smoothness_worst  compactness_worst  concavity_worst  \\\n",
       "0       324.7           0.14820            0.43650          1.25200   \n",
       "1      2089.0           0.14910            0.75840          0.67800   \n",
       "2       310.1           0.09836            0.16780          0.13970   \n",
       "3       455.7           0.14990            0.13980          0.11250   \n",
       "4       368.6           0.12750            0.09866          0.02168   \n",
       "\n",
       "   concave points_worst  symmetry_worst  fractal_dimension_worst  \n",
       "0               0.17500          0.4228                  0.11750  \n",
       "1               0.29030          0.4098                  0.12840  \n",
       "2               0.05087          0.3282                  0.08490  \n",
       "3               0.06136          0.3409                  0.08147  \n",
       "4               0.02579          0.3557                  0.08020  \n",
       "\n",
       "[5 rows x 31 columns]"
      ]
     },
     "execution_count": 3,
     "metadata": {},
     "output_type": "execute_result"
    }
   ],
   "source": [
    "train_set = load_train_data()\n",
    "test_set = load_test_data()\n",
    "df_cancer = train_set\n",
    "df_cancer.head()"
   ]
  },
  {
   "cell_type": "code",
   "execution_count": 4,
   "id": "1f5a1319-06c5-4b43-833c-c3dda26f8098",
   "metadata": {},
   "outputs": [],
   "source": [
    "## devide to X and Y"
   ]
  },
  {
   "cell_type": "code",
   "execution_count": 5,
   "id": "588d54d0-53a9-4e41-aae0-724c8782d01c",
   "metadata": {},
   "outputs": [],
   "source": [
    "X, y = train_set.drop('diagnosis',axis=1), train_set['diagnosis'].values\n",
    "X_test,y_test= test_set.drop('diagnosis',axis=1), test_set['diagnosis'].values"
   ]
  },
  {
   "cell_type": "code",
   "execution_count": 6,
   "id": "f5323736-bc9e-4258-883e-ce7da6abaf10",
   "metadata": {},
   "outputs": [],
   "source": [
    "clf=DecisionTreeCLF(max_depth=3,min_sample_split=4)"
   ]
  },
  {
   "cell_type": "code",
   "execution_count": 7,
   "id": "296a6988-0653-4147-b9f9-012282b48ffd",
   "metadata": {},
   "outputs": [
    {
     "name": "stdout",
     "output_type": "stream",
     "text": [
      "DecisionTreeClassifier(criterion = entropy,\n",
      "                        max_depth = 3,\n",
      "                        min_sample_split = 4)\n",
      "            \n"
     ]
    }
   ],
   "source": [
    "print(clf)"
   ]
  },
  {
   "cell_type": "code",
   "execution_count": 8,
   "id": "22881c0d-b4b8-4e66-8f6e-b5bfc7bea27a",
   "metadata": {},
   "outputs": [
    {
     "name": "stderr",
     "output_type": "stream",
     "text": [
      "/home/farhad/Projects/Kaggle/Breast Cancer Wisconsin/Breast_Cancer_Wisconsin_Data/DecisionTree.py:93: UserWarning: the node is pure no need to split\n",
      "  warn(\"the node is pure no need to split\")\n"
     ]
    }
   ],
   "source": [
    "clf.fit(X,y)"
   ]
  },
  {
   "cell_type": "code",
   "execution_count": 9,
   "id": "b3305954-c4d9-4ee4-aeb0-44706456f043",
   "metadata": {},
   "outputs": [],
   "source": [
    "#clf.tree"
   ]
  },
  {
   "cell_type": "code",
   "execution_count": 10,
   "id": "b2e300c5-2943-48c9-b16f-834f62115904",
   "metadata": {},
   "outputs": [
    {
     "data": {
      "text/plain": [
       "[<DecisionTree.Node at 0x7f113c02af70>]"
      ]
     },
     "execution_count": 10,
     "metadata": {},
     "output_type": "execute_result"
    }
   ],
   "source": [
    "clf.tree[0]"
   ]
  },
  {
   "cell_type": "code",
   "execution_count": 11,
   "id": "563ef1f4-c367-4c65-94cc-55b178fe5377",
   "metadata": {},
   "outputs": [
    {
     "data": {
      "text/plain": [
       "[<DecisionTree.Node at 0x7f113c0307f0>, <DecisionTree.Node at 0x7f113c030820>]"
      ]
     },
     "execution_count": 11,
     "metadata": {},
     "output_type": "execute_result"
    }
   ],
   "source": [
    "clf.tree[1]"
   ]
  },
  {
   "cell_type": "code",
   "execution_count": 12,
   "id": "0f4381e3-d64c-42ab-8801-0552fd32e745",
   "metadata": {},
   "outputs": [
    {
     "data": {
      "text/plain": [
       "[<DecisionTree.Node at 0x7f113c030160>,\n",
       " <DecisionTree.Node at 0x7f113c030730>,\n",
       " <DecisionTree.Node at 0x7f113c030760>,\n",
       " <DecisionTree.Node at 0x7f113c0301f0>]"
      ]
     },
     "execution_count": 12,
     "metadata": {},
     "output_type": "execute_result"
    }
   ],
   "source": [
    "clf.tree[2]"
   ]
  },
  {
   "cell_type": "code",
   "execution_count": 13,
   "id": "9e3e78e3-a9c0-41b2-8725-a5610aa1e3ae",
   "metadata": {},
   "outputs": [
    {
     "data": {
      "text/plain": [
       "[<DecisionTree.Node at 0x7f113c030160>,\n",
       " <DecisionTree.Node at 0x7f113c030250>,\n",
       " <DecisionTree.Node at 0x7f113c0252b0>,\n",
       " <DecisionTree.Node at 0x7f113c025520>,\n",
       " <DecisionTree.Node at 0x7f113c025640>,\n",
       " <DecisionTree.Node at 0x7f10e287fe50>,\n",
       " <DecisionTree.Node at 0x7f113c0306a0>]"
      ]
     },
     "execution_count": 13,
     "metadata": {},
     "output_type": "execute_result"
    }
   ],
   "source": [
    "clf.tree[3]"
   ]
  },
  {
   "cell_type": "code",
   "execution_count": 14,
   "id": "e4e2474f-c415-44e6-aa61-52fcfd2b66da",
   "metadata": {},
   "outputs": [
    {
     "name": "stdout",
     "output_type": "stream",
     "text": [
      "---------------------------------\n",
      "Node object Processed: \n",
      "            - current entropy : 0\n",
      "            - best column for spliting: None\n",
      "            - threshold : None\n",
      "            - entropy after the split : 0\n",
      "            - size : 129\n",
      "                    \n",
      "---------------------------------\n",
      "Node object Processed: \n",
      "            - current entropy : 0.2580186686648154\n",
      "            - best column for spliting: 12\n",
      "            - threshold : 1.5575\n",
      "            - entropy after the split : 0.08695652173913043\n",
      "            - size : 23\n",
      "                    \n",
      "---------------------------------\n",
      "Node object Processed: \n",
      "            - current entropy : 0.4537163391869448\n",
      "            - best column for spliting: 27\n",
      "            - threshold : 0.1656\n",
      "            - entropy after the split : 0.0\n",
      "            - size : 21\n",
      "                    \n",
      "---------------------------------\n",
      "Node object Processed: \n",
      "            - current entropy : 0.6193821946787638\n",
      "            - best column for spliting: 17\n",
      "            - threshold : 0.010125499999999999\n",
      "            - entropy after the split : 0.0\n",
      "            - size : 13\n",
      "                    \n",
      "---------------------------------\n",
      "Node object Processed: \n",
      "            - current entropy : 0\n",
      "            - best column for spliting: None\n",
      "            - threshold : None\n",
      "            - entropy after the split : 0\n",
      "            - size : 6\n",
      "                    \n",
      "---------------------------------\n",
      "Node object Processed: \n",
      "            - current entropy : 0.9182958340544896\n",
      "            - best column for spliting: 4\n",
      "            - threshold : 0.09068\n",
      "            - entropy after the split : 0.0\n",
      "            - size : 3\n",
      "                    \n",
      "---------------------------------\n",
      "Node object Processed: \n",
      "            - current entropy : 0.09082782593233853\n",
      "            - best column for spliting: 21\n",
      "            - threshold : 30.145\n",
      "            - entropy after the split : 0.056807761888116766\n",
      "            - size : 260\n",
      "                    \n"
     ]
    }
   ],
   "source": [
    "for node in clf.tree[3]:\n",
    "    node.find_the_best_feature()\n",
    "    print('---------------------------------')\n",
    "    print(node)"
   ]
  },
  {
   "cell_type": "code",
   "execution_count": null,
   "id": "2a6fae44-800b-4651-9ed8-7a05fe8357e8",
   "metadata": {},
   "outputs": [],
   "source": []
  }
 ],
 "metadata": {
  "kernelspec": {
   "display_name": "Python 3",
   "language": "python",
   "name": "python3"
  },
  "language_info": {
   "codemirror_mode": {
    "name": "ipython",
    "version": 3
   },
   "file_extension": ".py",
   "mimetype": "text/x-python",
   "name": "python",
   "nbconvert_exporter": "python",
   "pygments_lexer": "ipython3",
   "version": "3.9.7"
  }
 },
 "nbformat": 4,
 "nbformat_minor": 5
}
