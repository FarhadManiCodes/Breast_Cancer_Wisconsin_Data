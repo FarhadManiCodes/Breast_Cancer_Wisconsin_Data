{
 "cells": [
  {
   "cell_type": "markdown",
   "id": "e16cc00a-5c5e-4606-91a4-c3fcda44bfc0",
   "metadata": {},
   "source": [
    "# Discover and Visualize the Data to Gain Insights"
   ]
  },
  {
   "cell_type": "markdown",
   "id": "cba05287-975c-4165-a0cc-aaf3c73916c7",
   "metadata": {},
   "source": [
    "### Import the training set"
   ]
  },
  {
   "cell_type": "code",
   "execution_count": 1,
   "id": "365d24f9-fc0a-4f33-8b64-a17d2ae298b1",
   "metadata": {},
   "outputs": [],
   "source": [
    "import os\n",
    "import pandas as pd\n",
    "import numpy as np \n",
    "from pandas.plotting import scatter_matrix\n",
    "# The following is to make some plots along the way \n",
    "import seaborn as sns \n",
    "import matplotlib.pyplot as plt\n",
    "\n",
    "DATA_PATH = \"datasets\"\n",
    "\n",
    "def load_train_data(data_path:str = DATA_PATH) -> pd.DataFrame:\n",
    "    \"\"\"read the data from csv and return panda data from,\"\"\"\n",
    "    csv_path = os.path.join(data_path,\"train.csv\")\n",
    "    return pd.read_csv(csv_path)\n",
    "\n",
    "def load_test_data(data_path:str = DATA_PATH) -> pd.DataFrame:\n",
    "    \"\"\"read the data from csv and return panda data from,\"\"\"\n",
    "    csv_path = os.path.join(data_path,\"test.csv\")\n",
    "    return pd.read_csv(csv_path)\n",
    "\n",
    "# sklearn tools:\n",
    "from sklearn.preprocessing import StandardScaler\n",
    "from sklearn.preprocessing import QuantileTransformer\n",
    "from sklearn.preprocessing import Normalizer\n",
    "from sklearn.pipeline import make_pipeline\n",
    "from sklearn.feature_selection import SelectKBest, chi2, SelectPercentile\n",
    "from sklearn.model_selection import cross_val_score\n",
    "# modeler\n",
    "from sklearn.linear_model import LogisticRegression\n",
    "from sklearn.model_selection import StratifiedKFold"
   ]
  },
  {
   "cell_type": "code",
   "execution_count": 2,
   "id": "b0f5ff8a-d421-4838-b7b3-c416b6a9ee1a",
   "metadata": {},
   "outputs": [
    {
     "data": {
      "text/html": [
       "<div>\n",
       "<style scoped>\n",
       "    .dataframe tbody tr th:only-of-type {\n",
       "        vertical-align: middle;\n",
       "    }\n",
       "\n",
       "    .dataframe tbody tr th {\n",
       "        vertical-align: top;\n",
       "    }\n",
       "\n",
       "    .dataframe thead th {\n",
       "        text-align: right;\n",
       "    }\n",
       "</style>\n",
       "<table border=\"1\" class=\"dataframe\">\n",
       "  <thead>\n",
       "    <tr style=\"text-align: right;\">\n",
       "      <th></th>\n",
       "      <th>diagnosis</th>\n",
       "      <th>radius_mean</th>\n",
       "      <th>texture_mean</th>\n",
       "      <th>perimeter_mean</th>\n",
       "      <th>area_mean</th>\n",
       "      <th>smoothness_mean</th>\n",
       "      <th>compactness_mean</th>\n",
       "      <th>concavity_mean</th>\n",
       "      <th>concave points_mean</th>\n",
       "      <th>symmetry_mean</th>\n",
       "      <th>...</th>\n",
       "      <th>radius_worst</th>\n",
       "      <th>texture_worst</th>\n",
       "      <th>perimeter_worst</th>\n",
       "      <th>area_worst</th>\n",
       "      <th>smoothness_worst</th>\n",
       "      <th>compactness_worst</th>\n",
       "      <th>concavity_worst</th>\n",
       "      <th>concave points_worst</th>\n",
       "      <th>symmetry_worst</th>\n",
       "      <th>fractal_dimension_worst</th>\n",
       "    </tr>\n",
       "  </thead>\n",
       "  <tbody>\n",
       "    <tr>\n",
       "      <th>0</th>\n",
       "      <td>0</td>\n",
       "      <td>9.029</td>\n",
       "      <td>17.33</td>\n",
       "      <td>58.79</td>\n",
       "      <td>250.5</td>\n",
       "      <td>0.10660</td>\n",
       "      <td>0.14130</td>\n",
       "      <td>0.31300</td>\n",
       "      <td>0.04375</td>\n",
       "      <td>0.2111</td>\n",
       "      <td>...</td>\n",
       "      <td>10.31</td>\n",
       "      <td>22.65</td>\n",
       "      <td>65.50</td>\n",
       "      <td>324.7</td>\n",
       "      <td>0.14820</td>\n",
       "      <td>0.43650</td>\n",
       "      <td>1.25200</td>\n",
       "      <td>0.17500</td>\n",
       "      <td>0.4228</td>\n",
       "      <td>0.11750</td>\n",
       "    </tr>\n",
       "    <tr>\n",
       "      <th>1</th>\n",
       "      <td>1</td>\n",
       "      <td>21.090</td>\n",
       "      <td>26.57</td>\n",
       "      <td>142.70</td>\n",
       "      <td>1311.0</td>\n",
       "      <td>0.11410</td>\n",
       "      <td>0.28320</td>\n",
       "      <td>0.24870</td>\n",
       "      <td>0.14960</td>\n",
       "      <td>0.2395</td>\n",
       "      <td>...</td>\n",
       "      <td>26.68</td>\n",
       "      <td>33.48</td>\n",
       "      <td>176.50</td>\n",
       "      <td>2089.0</td>\n",
       "      <td>0.14910</td>\n",
       "      <td>0.75840</td>\n",
       "      <td>0.67800</td>\n",
       "      <td>0.29030</td>\n",
       "      <td>0.4098</td>\n",
       "      <td>0.12840</td>\n",
       "    </tr>\n",
       "    <tr>\n",
       "      <th>2</th>\n",
       "      <td>0</td>\n",
       "      <td>9.173</td>\n",
       "      <td>13.86</td>\n",
       "      <td>59.20</td>\n",
       "      <td>260.9</td>\n",
       "      <td>0.07721</td>\n",
       "      <td>0.08751</td>\n",
       "      <td>0.05988</td>\n",
       "      <td>0.02180</td>\n",
       "      <td>0.2341</td>\n",
       "      <td>...</td>\n",
       "      <td>10.01</td>\n",
       "      <td>19.23</td>\n",
       "      <td>65.59</td>\n",
       "      <td>310.1</td>\n",
       "      <td>0.09836</td>\n",
       "      <td>0.16780</td>\n",
       "      <td>0.13970</td>\n",
       "      <td>0.05087</td>\n",
       "      <td>0.3282</td>\n",
       "      <td>0.08490</td>\n",
       "    </tr>\n",
       "    <tr>\n",
       "      <th>3</th>\n",
       "      <td>0</td>\n",
       "      <td>10.650</td>\n",
       "      <td>25.22</td>\n",
       "      <td>68.01</td>\n",
       "      <td>347.0</td>\n",
       "      <td>0.09657</td>\n",
       "      <td>0.07234</td>\n",
       "      <td>0.02379</td>\n",
       "      <td>0.01615</td>\n",
       "      <td>0.1897</td>\n",
       "      <td>...</td>\n",
       "      <td>12.25</td>\n",
       "      <td>35.19</td>\n",
       "      <td>77.98</td>\n",
       "      <td>455.7</td>\n",
       "      <td>0.14990</td>\n",
       "      <td>0.13980</td>\n",
       "      <td>0.11250</td>\n",
       "      <td>0.06136</td>\n",
       "      <td>0.3409</td>\n",
       "      <td>0.08147</td>\n",
       "    </tr>\n",
       "    <tr>\n",
       "      <th>4</th>\n",
       "      <td>0</td>\n",
       "      <td>10.170</td>\n",
       "      <td>14.88</td>\n",
       "      <td>64.55</td>\n",
       "      <td>311.9</td>\n",
       "      <td>0.11340</td>\n",
       "      <td>0.08061</td>\n",
       "      <td>0.01084</td>\n",
       "      <td>0.01290</td>\n",
       "      <td>0.2743</td>\n",
       "      <td>...</td>\n",
       "      <td>11.02</td>\n",
       "      <td>17.45</td>\n",
       "      <td>69.86</td>\n",
       "      <td>368.6</td>\n",
       "      <td>0.12750</td>\n",
       "      <td>0.09866</td>\n",
       "      <td>0.02168</td>\n",
       "      <td>0.02579</td>\n",
       "      <td>0.3557</td>\n",
       "      <td>0.08020</td>\n",
       "    </tr>\n",
       "  </tbody>\n",
       "</table>\n",
       "<p>5 rows × 31 columns</p>\n",
       "</div>"
      ],
      "text/plain": [
       "   diagnosis  radius_mean  texture_mean  perimeter_mean  area_mean  \\\n",
       "0          0        9.029         17.33           58.79      250.5   \n",
       "1          1       21.090         26.57          142.70     1311.0   \n",
       "2          0        9.173         13.86           59.20      260.9   \n",
       "3          0       10.650         25.22           68.01      347.0   \n",
       "4          0       10.170         14.88           64.55      311.9   \n",
       "\n",
       "   smoothness_mean  compactness_mean  concavity_mean  concave points_mean  \\\n",
       "0          0.10660           0.14130         0.31300              0.04375   \n",
       "1          0.11410           0.28320         0.24870              0.14960   \n",
       "2          0.07721           0.08751         0.05988              0.02180   \n",
       "3          0.09657           0.07234         0.02379              0.01615   \n",
       "4          0.11340           0.08061         0.01084              0.01290   \n",
       "\n",
       "   symmetry_mean  ...  radius_worst  texture_worst  perimeter_worst  \\\n",
       "0         0.2111  ...         10.31          22.65            65.50   \n",
       "1         0.2395  ...         26.68          33.48           176.50   \n",
       "2         0.2341  ...         10.01          19.23            65.59   \n",
       "3         0.1897  ...         12.25          35.19            77.98   \n",
       "4         0.2743  ...         11.02          17.45            69.86   \n",
       "\n",
       "   area_worst  smoothness_worst  compactness_worst  concavity_worst  \\\n",
       "0       324.7           0.14820            0.43650          1.25200   \n",
       "1      2089.0           0.14910            0.75840          0.67800   \n",
       "2       310.1           0.09836            0.16780          0.13970   \n",
       "3       455.7           0.14990            0.13980          0.11250   \n",
       "4       368.6           0.12750            0.09866          0.02168   \n",
       "\n",
       "   concave points_worst  symmetry_worst  fractal_dimension_worst  \n",
       "0               0.17500          0.4228                  0.11750  \n",
       "1               0.29030          0.4098                  0.12840  \n",
       "2               0.05087          0.3282                  0.08490  \n",
       "3               0.06136          0.3409                  0.08147  \n",
       "4               0.02579          0.3557                  0.08020  \n",
       "\n",
       "[5 rows x 31 columns]"
      ]
     },
     "execution_count": 2,
     "metadata": {},
     "output_type": "execute_result"
    }
   ],
   "source": [
    "train_set = load_train_data()\n",
    "test_set = load_test_data()\n",
    "df_cancer = train_set\n",
    "df_cancer.head()"
   ]
  },
  {
   "cell_type": "code",
   "execution_count": 3,
   "id": "f06f3fdf-676c-4936-a23a-f6f10f0325fc",
   "metadata": {},
   "outputs": [
    {
     "name": "stdout",
     "output_type": "stream",
     "text": [
      "<class 'pandas.core.frame.DataFrame'>\n",
      "RangeIndex: 455 entries, 0 to 454\n",
      "Data columns (total 31 columns):\n",
      " #   Column                   Non-Null Count  Dtype  \n",
      "---  ------                   --------------  -----  \n",
      " 0   diagnosis                455 non-null    int64  \n",
      " 1   radius_mean              455 non-null    float64\n",
      " 2   texture_mean             455 non-null    float64\n",
      " 3   perimeter_mean           455 non-null    float64\n",
      " 4   area_mean                455 non-null    float64\n",
      " 5   smoothness_mean          455 non-null    float64\n",
      " 6   compactness_mean         455 non-null    float64\n",
      " 7   concavity_mean           455 non-null    float64\n",
      " 8   concave points_mean      455 non-null    float64\n",
      " 9   symmetry_mean            455 non-null    float64\n",
      " 10  fractal_dimension_mean   455 non-null    float64\n",
      " 11  radius_se                455 non-null    float64\n",
      " 12  texture_se               455 non-null    float64\n",
      " 13  perimeter_se             455 non-null    float64\n",
      " 14  area_se                  455 non-null    float64\n",
      " 15  smoothness_se            455 non-null    float64\n",
      " 16  compactness_se           455 non-null    float64\n",
      " 17  concavity_se             455 non-null    float64\n",
      " 18  concave points_se        455 non-null    float64\n",
      " 19  symmetry_se              455 non-null    float64\n",
      " 20  fractal_dimension_se     455 non-null    float64\n",
      " 21  radius_worst             455 non-null    float64\n",
      " 22  texture_worst            455 non-null    float64\n",
      " 23  perimeter_worst          455 non-null    float64\n",
      " 24  area_worst               455 non-null    float64\n",
      " 25  smoothness_worst         455 non-null    float64\n",
      " 26  compactness_worst        455 non-null    float64\n",
      " 27  concavity_worst          455 non-null    float64\n",
      " 28  concave points_worst     455 non-null    float64\n",
      " 29  symmetry_worst           455 non-null    float64\n",
      " 30  fractal_dimension_worst  455 non-null    float64\n",
      "dtypes: float64(30), int64(1)\n",
      "memory usage: 110.3 KB\n"
     ]
    }
   ],
   "source": [
    "df_cancer.info()"
   ]
  },
  {
   "cell_type": "code",
   "execution_count": 5,
   "id": "339fb78d-7e29-4553-81f9-eb55c7a7ae3c",
   "metadata": {},
   "outputs": [
    {
     "data": {
      "text/plain": [
       "<AxesSubplot:>"
      ]
     },
     "execution_count": 5,
     "metadata": {},
     "output_type": "execute_result"
    },
    {
     "data": {
      "image/png": "[encoded data removed]",
      "text/plain": [
       "<Figure size 432x288 with 1 Axes>"
      ]
     },
     "metadata": {
      "needs_background": "light"
     },
     "output_type": "display_data"
    }
   ],
   "source": [
    "df_cancer.diagnosis.hist()"
   ]
  },
  {
   "cell_type": "code",
   "execution_count": null,
   "id": "159d36a4-ead0-491d-9eef-83287937cbb5",
   "metadata": {},
   "outputs": [],
   "source": [
    "df_cancer.describe()"
   ]
  },
  {
   "cell_type": "markdown",
   "id": "37c945d6-7820-47e2-8e5d-519895598556",
   "metadata": {},
   "source": [
    "# Looking for Correlations"
   ]
  },
  {
   "cell_type": "code",
   "execution_count": null,
   "id": "3fde5190-c9d5-4a21-aadf-942fe760d0a6",
   "metadata": {},
   "outputs": [],
   "source": [
    "corr_matrix = df_cancer.corr(method='pearson')"
   ]
  },
  {
   "cell_type": "code",
   "execution_count": null,
   "id": "44901eb2-80d0-42e8-b339-4ca5e99adbd2",
   "metadata": {},
   "outputs": [],
   "source": [
    "corr_vector=corr_matrix[\"diagnosis\"].sort_values(ascending=True)[:-1]\n",
    "corr_vector.plot.barh(figsize=(16,24));\n"
   ]
  },
  {
   "cell_type": "code",
   "execution_count": null,
   "id": "3b59a212-78f8-4662-bf62-6b6eb2324c1a",
   "metadata": {},
   "outputs": [],
   "source": [
    "important_attributes=corr_vector[corr_vector > 0.5].index.tolist()\n",
    "important_attributes.append('diagnosis')\n",
    "less_important = corr_vector[corr_vector <= 0.5].index.tolist()\n",
    "less_important.append('diagnosis')"
   ]
  },
  {
   "cell_type": "code",
   "execution_count": null,
   "id": "78aad2ba-c6ce-4460-8aa8-249dc7730b6b",
   "metadata": {},
   "outputs": [],
   "source": [
    "figure_most=sns.pairplot(df_cancer[important_attributes], hue=\"diagnosis\");\n",
    "figure_most.savefig(r\"plots/corr_big.png\")\n",
    "figure_least=sns.pairplot(df_cancer[less_important], hue=\"diagnosis\");\n",
    "figure_least.savefig(r\"plots/corr_less_corr.png\")"
   ]
  },
  {
   "cell_type": "markdown",
   "id": "f232d719-2402-4957-be59-79de53256541",
   "metadata": {},
   "source": [
    "# Choose some intresting ones"
   ]
  },
  {
   "cell_type": "code",
   "execution_count": null,
   "id": "e52116a3-0b3f-45df-b8e5-7bb9ebaaf514",
   "metadata": {},
   "outputs": [],
   "source": [
    "attributes =['diagnosis',\n",
    "             'area_mean',\n",
    "             'radius_mean',\n",
    "             'area_worst',\n",
    "             'perimeter_mean',\n",
    "             'radius_worst']"
   ]
  },
  {
   "cell_type": "code",
   "execution_count": null,
   "id": "b7c886cd-3a88-4252-a325-fe1bd2ac3dba",
   "metadata": {},
   "outputs": [],
   "source": [
    "scatter_matrix(df_cancer[attributes], figsize=(20, 14));"
   ]
  },
  {
   "cell_type": "code",
   "execution_count": null,
   "id": "7b8f587f-4f84-4c65-b54e-c63831b309ed",
   "metadata": {},
   "outputs": [],
   "source": [
    "#figure=sns.pairplot(df_cancer[attributes], hue=\"diagnosis\");\n",
    "#figure.savefig(r\"plots/corr.png\")"
   ]
  },
  {
   "cell_type": "code",
   "execution_count": null,
   "id": "feaa020c-a7c3-4a80-adcc-a1e6c952e205",
   "metadata": {},
   "outputs": [],
   "source": [
    "H_A= ['perimeter_worst',\n",
    " 'concave points_mean',\n",
    " 'concave points_worst']"
   ]
  },
  {
   "cell_type": "code",
   "execution_count": null,
   "id": "dfd373b3-5c40-443f-8f45-cf28f65b7523",
   "metadata": {},
   "outputs": [],
   "source": [
    "scatter_matrix(df_cancer[H_A], figsize=(20, 14));"
   ]
  },
  {
   "cell_type": "markdown",
   "id": "6cdb4383-bc70-46fd-a21e-0896a131a752",
   "metadata": {},
   "source": [
    "# devide to X and Y"
   ]
  },
  {
   "cell_type": "code",
   "execution_count": null,
   "id": "b90d2f07-f2a0-4912-9972-820fe54a6d77",
   "metadata": {},
   "outputs": [],
   "source": [
    "X, y = train_set.drop('diagnosis',axis=1), train_set['diagnosis']\n",
    "X_test,y_test= test_set.drop('diagnosis',axis=1), test_set['diagnosis']"
   ]
  },
  {
   "cell_type": "code",
   "execution_count": null,
   "id": "39870641-d5bf-4868-8826-06d73893e5f6",
   "metadata": {},
   "outputs": [],
   "source": [
    "X"
   ]
  },
  {
   "cell_type": "code",
   "execution_count": null,
   "id": "3474c588-e41d-448f-9028-8021b4d1e89b",
   "metadata": {},
   "outputs": [],
   "source": [
    "scaler = Normalizer()\n",
    "scaler.fit(X)\n",
    "selection = SelectKBest(chi2,k=10)\n",
    "qt = QuantileTransformer(n_quantiles=20, random_state=0)\n",
    "lg_clf = LogisticRegression()"
   ]
  },
  {
   "cell_type": "code",
   "execution_count": null,
   "id": "7a1bffce-7ade-4259-a3fc-a8b25fbbe66c",
   "metadata": {},
   "outputs": [],
   "source": [
    "lg_pipe = make_pipeline(qt,selection,clf)\n",
    "skf = StratifiedKFold(5,shuffle=True,random_state=0)\n",
    "cross_val_score(pipe,X,y,cv=skf,scoring='accuracy').mean()\n"
   ]
  },
  {
   "cell_type": "code",
   "execution_count": null,
   "id": "4ca19fc0-e9f2-4a73-889c-b5edc0221c17",
   "metadata": {},
   "outputs": [],
   "source": [
    "#pipe.fit(X,y)"
   ]
  },
  {
   "cell_type": "code",
   "execution_count": null,
   "id": "848d962d-e394-4eb6-91f7-cca1269ef486",
   "metadata": {},
   "outputs": [],
   "source": [
    "#pipe.predict(X_test)"
   ]
  },
  {
   "cell_type": "code",
   "execution_count": null,
   "id": "d6622e96-321d-4c9c-b1a1-fdbced3f7175",
   "metadata": {},
   "outputs": [],
   "source": [
    "pipe.score(X_test,y_test)"
   ]
  },
  {
   "cell_type": "code",
   "execution_count": null,
   "id": "90909b16-205b-4b79-bf19-cd9bf67b31d3",
   "metadata": {},
   "outputs": [],
   "source": [
    "pipe.named_steps.logisticregression.coef_"
   ]
  },
  {
   "cell_type": "code",
   "execution_count": null,
   "id": "bbef3321-6ff4-4fbe-a074-15a3acf3d32e",
   "metadata": {},
   "outputs": [],
   "source": [
    "used=pipe.named_steps.selectkbest.get_support()"
   ]
  },
  {
   "cell_type": "code",
   "execution_count": null,
   "id": "23654782-43fb-4784-b09e-20effd18e1ae",
   "metadata": {},
   "outputs": [],
   "source": [
    "X.columns[used]"
   ]
  },
  {
   "cell_type": "code",
   "execution_count": null,
   "id": "9c1477af-33e3-4f35-a73d-c9b3e958aaab",
   "metadata": {},
   "outputs": [],
   "source": [
    "used_list=used.tolist()"
   ]
  },
  {
   "cell_type": "code",
   "execution_count": null,
   "id": "32ed0577-e9a2-4653-b32c-a525232971ec",
   "metadata": {},
   "outputs": [],
   "source": [
    "used_list.append('diagnosis')\n",
    "figure_most_important=sns.pairplot(df_cancer[important_attributes], hue=\"diagnosis\");\n",
    "figure_most_important.savefig(r\"plots/corr_important.png\")"
   ]
  },
  {
   "cell_type": "code",
   "execution_count": null,
   "id": "41d3425a-a3dc-440a-b261-397cd94d9d0d",
   "metadata": {},
   "outputs": [],
   "source": [
    "#qt = QuantileTransformer(n_quantiles=20, random_state=0)\n",
    "#lg_clf = LogisticRegression()\n",
    "#lg_pipe = make_pipeline(qt,selection,lg_clf)"
   ]
  },
  {
   "cell_type": "code",
   "execution_count": null,
   "id": "adae7b1c-77c1-4386-90e7-fe2ed054c9c1",
   "metadata": {},
   "outputs": [],
   "source": [
    "#estimators = [xgb_clf]\n",
    "#for estimator in estimators:\n",
    "#    print(\"select FE in the\", estimator.__class__.__name__)\n",
    "#    selector = RFECV(estimator, step=1, cv=5)\n",
    "#    selector.fit(X_train, y_train)"
   ]
  },
  {
   "cell_type": "code",
   "execution_count": null,
   "id": "73f7a3d9-82bc-4d66-b19a-88a1f55a95bb",
   "metadata": {},
   "outputs": [],
   "source": [
    "#selector = RFECV(estimator, step=1, cv=5)"
   ]
  },
  {
   "cell_type": "code",
   "execution_count": null,
   "id": "657060bb-a941-4189-9004-39c8d1d341c5",
   "metadata": {},
   "outputs": [],
   "source": []
  }
 ],
 "metadata": {
  "kernelspec": {
   "display_name": "Python 3.9.5 64-bit ('pydata-book': conda)",
   "language": "python",
   "name": "python395jvsc74a57bd0dcf546f168ff7d1b83e540e6ad1295affb39d9ab9c4b842c81f5f90a10edfc6e"
  },
  "language_info": {
   "codemirror_mode": {
    "name": "ipython",
    "version": 3
   },
   "file_extension": ".py",
   "mimetype": "text/x-python",
   "name": "python",
   "nbconvert_exporter": "python",
   "pygments_lexer": "ipython3",
   "version": "3.9.7"
  }
 },
 "nbformat": 4,
 "nbformat_minor": 5
}
